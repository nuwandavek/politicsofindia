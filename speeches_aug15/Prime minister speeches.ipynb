{
 "cells": [
  {
   "cell_type": "code",
   "execution_count": 40,
   "metadata": {
    "collapsed": true
   },
   "outputs": [],
   "source": [
    "from __future__ import division  # Python 2 users only\n",
    "import nltk, re, pprint\n",
    "from nltk import word_tokenize"
   ]
  },
  {
   "cell_type": "code",
   "execution_count": 41,
   "metadata": {
    "collapsed": true
   },
   "outputs": [],
   "source": [
    "a = open(\"2016.txt\",\"r\")"
   ]
  },
  {
   "cell_type": "code",
   "execution_count": 42,
   "metadata": {
    "collapsed": false
   },
   "outputs": [],
   "source": [
    "txt = a.read().decode(\"utf8\")"
   ]
  },
  {
   "cell_type": "code",
   "execution_count": 43,
   "metadata": {
    "collapsed": false
   },
   "outputs": [
    {
     "data": {
      "text/plain": [
       "62002"
      ]
     },
     "execution_count": 43,
     "metadata": {},
     "output_type": "execute_result"
    }
   ],
   "source": [
    "len(txt)"
   ]
  },
  {
   "cell_type": "code",
   "execution_count": 44,
   "metadata": {
    "collapsed": false
   },
   "outputs": [],
   "source": [
    "tokens = word_tokenize(txt)"
   ]
  },
  {
   "cell_type": "code",
   "execution_count": 45,
   "metadata": {
    "collapsed": false
   },
   "outputs": [
    {
     "data": {
      "text/plain": [
       "12036"
      ]
     },
     "execution_count": 45,
     "metadata": {},
     "output_type": "execute_result"
    }
   ],
   "source": [
    "len(tokens)"
   ]
  },
  {
   "cell_type": "code",
   "execution_count": 46,
   "metadata": {
    "collapsed": false
   },
   "outputs": [
    {
     "data": {
      "text/plain": [
       "[u'My',\n",
       " u'beloved',\n",
       " u'countrymen',\n",
       " u',',\n",
       " u'on',\n",
       " u'this',\n",
       " u'auspicious',\n",
       " u'occasion',\n",
       " u'of',\n",
       " u'our',\n",
       " u'festival',\n",
       " u'of',\n",
       " u'freedom',\n",
       " u';',\n",
       " u'I',\n",
       " u'extend',\n",
       " u'lots',\n",
       " u'of',\n",
       " u'greetings',\n",
       " u'to']"
      ]
     },
     "execution_count": 46,
     "metadata": {},
     "output_type": "execute_result"
    }
   ],
   "source": [
    "tokens[:20]"
   ]
  },
  {
   "cell_type": "code",
   "execution_count": 47,
   "metadata": {
    "collapsed": true
   },
   "outputs": [],
   "source": [
    "tokentext = nltk.Text(tokens)"
   ]
  },
  {
   "cell_type": "code",
   "execution_count": 48,
   "metadata": {
    "collapsed": false
   },
   "outputs": [
    {
     "data": {
      "text/plain": [
       "[u'My',\n",
       " u'beloved',\n",
       " u'countrymen',\n",
       " u',',\n",
       " u'on',\n",
       " u'this',\n",
       " u'auspicious',\n",
       " u'occasion',\n",
       " u'of',\n",
       " u'our',\n",
       " u'festival',\n",
       " u'of',\n",
       " u'freedom',\n",
       " u';',\n",
       " u'I',\n",
       " u'extend',\n",
       " u'lots',\n",
       " u'of',\n",
       " u'greetings',\n",
       " u'to']"
      ]
     },
     "execution_count": 48,
     "metadata": {},
     "output_type": "execute_result"
    }
   ],
   "source": [
    "tokentext[:20]"
   ]
  },
  {
   "cell_type": "code",
   "execution_count": 49,
   "metadata": {
    "collapsed": false
   },
   "outputs": [
    {
     "name": "stdout",
     "output_type": "stream",
     "text": [
      "Displaying 7 of 7 matches:\n",
      "mism at border , on the pretext of terrorism at hilly areas by carrying guns on\n",
      "ned but the persons on the path of terrorism have not achieved anything . I wou\n",
      "ence nor would it ever put up with terrorism . Nor would it bow down to terrori\n",
      "rrorism . Nor would it bow down to terrorism . It will never succumb to Maoism \n",
      "at is the kind of those who reward terrorism ? I want to place two pictures bef\n",
      " and they celebrate , what type of terrorism inspired life it is , what type of\n",
      "hat type of these creations of the terrorism inspired governments are ? The wor\n"
     ]
    }
   ],
   "source": [
    "tokentext.concordance(\"terrorism\")"
   ]
  },
  {
   "cell_type": "code",
   "execution_count": 51,
   "metadata": {
    "collapsed": false,
    "scrolled": true
   },
   "outputs": [],
   "source": [
    "f = nltk.FreqDist(tokentext)\n"
   ]
  },
  {
   "cell_type": "code",
   "execution_count": null,
   "metadata": {
    "collapsed": true
   },
   "outputs": [],
   "source": []
  }
 ],
 "metadata": {
  "kernelspec": {
   "display_name": "Python 2",
   "language": "python",
   "name": "python2"
  },
  "language_info": {
   "codemirror_mode": {
    "name": "ipython",
    "version": 2
   },
   "file_extension": ".py",
   "mimetype": "text/x-python",
   "name": "python",
   "nbconvert_exporter": "python",
   "pygments_lexer": "ipython2",
   "version": "2.7.11"
  }
 },
 "nbformat": 4,
 "nbformat_minor": 1
}
